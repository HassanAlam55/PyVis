{
 "cells": [
  {
   "cell_type": "markdown",
   "metadata": {},
   "source": [
    "# San Francisco Rental Prices Dashboard\n",
    "\n",
    "In this notebook, you will compile the visualizations from the previous analysis into functions that can be used for a Panel dashboard."
   ]
  },
  {
   "cell_type": "code",
   "execution_count": 33,
   "metadata": {},
   "outputs": [],
   "source": [
    "# imports\n",
    "import panel as pn\n",
    "pn.extension('plotly')\n",
    "import plotly.express as px\n",
    "import pandas as pd\n",
    "import hvplot.pandas\n",
    "import matplotlib.pyplot as plt\n",
    "import os\n",
    "from pathlib import Path\n",
    "from dotenv import load_dotenv\n",
    "\n",
    "import panel as pn\n",
    "from panel.interact import interact"
   ]
  },
  {
   "cell_type": "code",
   "execution_count": 2,
   "metadata": {},
   "outputs": [],
   "source": [
    "# Read the Mapbox API key\n",
    "load_dotenv()\n",
    "map_box_api = os.getenv(\"mapbox\")\n",
    "px.set_mapbox_access_token(map_box_api)"
   ]
  },
  {
   "cell_type": "markdown",
   "metadata": {},
   "source": [
    "# Import Data"
   ]
  },
  {
   "cell_type": "code",
   "execution_count": 3,
   "metadata": {},
   "outputs": [
    {
     "data": {
      "text/html": [
       "<div>\n",
       "<style scoped>\n",
       "    .dataframe tbody tr th:only-of-type {\n",
       "        vertical-align: middle;\n",
       "    }\n",
       "\n",
       "    .dataframe tbody tr th {\n",
       "        vertical-align: top;\n",
       "    }\n",
       "\n",
       "    .dataframe thead th {\n",
       "        text-align: right;\n",
       "    }\n",
       "</style>\n",
       "<table border=\"1\" class=\"dataframe\">\n",
       "  <thead>\n",
       "    <tr style=\"text-align: right;\">\n",
       "      <th></th>\n",
       "      <th>Neighborhood</th>\n",
       "      <th>Lat</th>\n",
       "      <th>Lon</th>\n",
       "    </tr>\n",
       "  </thead>\n",
       "  <tbody>\n",
       "    <tr>\n",
       "      <th>0</th>\n",
       "      <td>Alamo Square</td>\n",
       "      <td>37.791012</td>\n",
       "      <td>-122.402100</td>\n",
       "    </tr>\n",
       "    <tr>\n",
       "      <th>1</th>\n",
       "      <td>Anza Vista</td>\n",
       "      <td>37.779598</td>\n",
       "      <td>-122.443451</td>\n",
       "    </tr>\n",
       "    <tr>\n",
       "      <th>2</th>\n",
       "      <td>Bayview</td>\n",
       "      <td>37.734670</td>\n",
       "      <td>-122.401060</td>\n",
       "    </tr>\n",
       "    <tr>\n",
       "      <th>3</th>\n",
       "      <td>Bayview Heights</td>\n",
       "      <td>37.728740</td>\n",
       "      <td>-122.410980</td>\n",
       "    </tr>\n",
       "    <tr>\n",
       "      <th>4</th>\n",
       "      <td>Bernal Heights</td>\n",
       "      <td>37.728630</td>\n",
       "      <td>-122.443050</td>\n",
       "    </tr>\n",
       "  </tbody>\n",
       "</table>\n",
       "</div>"
      ],
      "text/plain": [
       "      Neighborhood        Lat         Lon\n",
       "0     Alamo Square  37.791012 -122.402100\n",
       "1       Anza Vista  37.779598 -122.443451\n",
       "2          Bayview  37.734670 -122.401060\n",
       "3  Bayview Heights  37.728740 -122.410980\n",
       "4   Bernal Heights  37.728630 -122.443050"
      ]
     },
     "execution_count": 3,
     "metadata": {},
     "output_type": "execute_result"
    }
   ],
   "source": [
    "# Import the necessary CSVs to Pandas DataFrames\n",
    "# YOUR CODE HERE!\n",
    "file_path = Path(\"Data/sfo_neighborhoods_census_data.csv\")\n",
    "sfo_data = pd.read_csv(file_path, index_col=\"year\")\n",
    "sfo_data.head()\n",
    "\n",
    "coord_path = Path(\"Data/neighborhoods_coordinates.csv\")\n",
    "coord_data = pd.read_csv(coord_path)\n",
    "coord_data.head()"
   ]
  },
  {
   "cell_type": "markdown",
   "metadata": {},
   "source": [
    "- - -"
   ]
  },
  {
   "cell_type": "markdown",
   "metadata": {},
   "source": [
    "## Panel Visualizations\n",
    "\n",
    "In this section, you will copy the code for each plot type from your analysis notebook and place it into separate functions that Panel can use to create panes for the dashboard. \n",
    "\n",
    "These functions will convert the plot object to a Panel pane.\n",
    "\n",
    "Be sure to include any DataFrame transformation/manipulation code required along with the plotting code.\n",
    "\n",
    "Return a Panel pane object from each function that can be used to build the dashboard.\n",
    "\n",
    "Note: Remove any `.show()` lines from the code. We want to return the plots instead of showing them. The Panel dashboard will then display the plots."
   ]
  },
  {
   "cell_type": "code",
   "execution_count": 64,
   "metadata": {},
   "outputs": [],
   "source": [
    "# Define Panel Visualization Functions\n",
    "def housing_units_per_year():    \n",
    "    \"\"\"Housing Units Per Year.\"\"\"\n",
    "    \n",
    "    # YOUR CODE HERE!\n",
    "    #set up data\n",
    "    sfo_house_units = pd.DataFrame(sfo_data.groupby('year')['housing_units'].mean())\n",
    "    tot_housing = sfo_data.groupby(['year'])['housing_units'].mean()\n",
    "    #plot\n",
    "    sfo_house_units.plot.bar(title = \"Housing Units in San Francisco from 2010 to 2016\",  ylim = (tot_housing.min() - tot_housing.std(), tot_housing.max() + tot_housing.std()))\n",
    "\n",
    "\n",
    "\n",
    "def average_gross_rent():\n",
    "    \"\"\"Average Gross Rent in San Francisco Per Year.\"\"\"\n",
    "    \n",
    "    # YOUR CODE HERE!\n",
    "    # awr up data\n",
    "    sfo_house_units = pd.DataFrame(sfo_data.groupby('year')['housing_units'].mean())\n",
    "    sfo_house_units['sale_price_sqr_foot'] = sfo_data.groupby('year')['sale_price_sqr_foot'].mean()\n",
    "    sfo_house_units ['gross_rent'] = sfo_data.groupby('year')['gross_rent'].mean()\n",
    "    #plot\n",
    "    fig2, ax2 = plt.subplots()\n",
    "    ax2.plot(sfo_house_units.index, sfo_house_units['gross_rent'],color='tab:orange' )\n",
    "    ax2.set_ylabel('Price per SqFt', fontweight=\"bold\", fontsize = 12)\n",
    "    ax2.set_xlabel('Year',  fontweight=\"bold\", fontsize = 12)\n",
    "    ax2.set_title('Average Gross Rent by Year',fontweight=\"bold\", fontsize = 12 )\n",
    "\n",
    "\n",
    "\n",
    "def average_sales_price(neighborhood):\n",
    "    \"\"\"Average Sales Price Per Year.\"\"\"\n",
    "    \n",
    "    # YOUR CODE HERE!\n",
    "    #set up data\n",
    "    sfo_house_units = pd.DataFrame(sfo_data.groupby('year')['housing_units'].mean())\n",
    "    sfo_house_units['sale_price_sqr_foot'] = sfo_data.groupby('year')['sale_price_sqr_foot'].mean()\n",
    "    sfo_house_units ['gross_rent'] = sfo_data.groupby('year')['gross_rent'].mean()\n",
    "    #plot\n",
    "    fig1, ax1 = plt.subplots()\n",
    "    ax1.plot(sfo_house_units.index, sfo_house_units['sale_price_sqr_foot'], color='tab:blue')\n",
    "    ax1.set_ylabel('Price per SqFt', fontweight=\"bold\", fontsize = 12)\n",
    "    ax1.set_xlabel('Year',  fontweight=\"bold\", fontsize = 12)\n",
    "    ax1.set_title('Average Price per SqFt by Year',fontweight=\"bold\", fontsize = 12 )\n",
    "\n",
    "\n",
    "def average_price_by_neighborhood(neighborhood):\n",
    "    \"\"\"Average Prices by Neighborhood.\"\"\"\n",
    "    \n",
    "    # YOUR CODE HERE!\n",
    "    # set up data\n",
    "    sfo_neighb = pd.DataFrame(columns = ['sale_price_sqr_foot', 'housing_units', 'gross_rent'])\n",
    "    sfo_neighb['sale_price_sqr_foot'] = sfo_data.groupby(['year','neighborhood' ])['sale_price_sqr_foot'].mean()\n",
    "    sfo_neighb ['gross_rent'] = sfo_data.groupby(['year','neighborhood' ])['gross_rent'].mean()\n",
    "    sfo_neighb ['housing_units'] = sfo_data.groupby(['year','neighborhood' ])['housing_units'].mean()\n",
    "    sfo_neighb.reset_index(inplace = True)\n",
    "    \n",
    "    #set up plotting datafraem\n",
    "    disp_df = pd.DataFrame()\n",
    "    disp_df['years'] = sfo_neighb.loc[sfo_neighb['neighborhood'] == neighborhood, 'year']\n",
    "    disp_df['sale_price_sqr_foot'] = sfo_neighb.loc[sfo_neighb['neighborhood'] == neighborhood, 'sale_price_sqr_foot']\n",
    "    \n",
    "    #return plot\n",
    "    return disp_df.hvplot.line(\n",
    "        x = 'years',\n",
    "        y = 'sale_price_sqr_foot',\n",
    "        title = (f'Neighborhood:  {neighborhood}'),\n",
    "\n",
    "    )\n",
    "    \n",
    "\n",
    "def top_most_expensive_neighborhoods():\n",
    "    \"\"\"Top 10 Most Expensive Neighborhoods.\"\"\"\n",
    "    # need to debug\n",
    "    # YOUR CODE HERE!\n",
    "    # set up data in two steps from rental analysis. may be combined into one.\n",
    "#     print ('test 1')\n",
    "    sfo_neighb = pd.DataFrame(columns = ['sale_price_sqr_foot', 'housing_units', 'gross_rent'])\n",
    "#     print ('test 1')\n",
    "    sfo_neighb['sale_price_sqr_foot'] = sfo_data.groupby(['year','neighborhood' ])['sale_price_sqr_foot'].mean()\n",
    "    sfo_neighb ['gross_rent'] = sfo_data.groupby(['year','neighborhood' ])['gross_rent'].mean()\n",
    "    sfo_neighb ['housing_units'] = sfo_data.groupby(['year','neighborhood' ])['housing_units'].mean()\n",
    "    print (f'debug sfo_neigh: {sfo_neighb.head(5)}')\n",
    "    sfo_avg_df = pd.DataFrame()\n",
    "    sfo_avg_df ['sale_price_sqr_foot'] = sfo_neighb.groupby('neighborhood')['sale_price_sqr_foot'].mean()\n",
    "    sfo_avg_df ['housing_units'] = sfo_neighb.groupby('neighborhood')['housing_units'].mean()\n",
    "    sfo_avg_df ['gross_rent'] = sfo_neighb.groupby('neighborhood')['gross_rent'].mean()\n",
    "    sf_topten_df = sfo_avg_df.nlargest(10,'gross_rent' )\n",
    "    sf_topten_df.sort_values(by = 'sale_price_sqr_foot', inplace = True)\n",
    "    sf_topten_df.reset_index(inplace = True)\n",
    "    print (f'debug sf_topten_df: {sf_topten_df.head(5)}')\n",
    "#     sf_topten_df.index\n",
    "    #plot\n",
    "    print (f'debug sf_topten_df[neighborhood]: { sf_topten_df[\"neighborhood\"]}')\n",
    "#     print (f'debug sf_topten_df[sale_price_sqr_foot]: { sf_topten_df[\"sale_price_sqr_foot\"]}')\n",
    "    sf_topten_df.hvplot.bar(\n",
    "        x = 'neighborhood',\n",
    "        y = 'sale_price_sqr_foot',\n",
    "        title = ('Top 10 Most Expensive Neighborhoods'),\n",
    "        rot = 90\n",
    "    )\n",
    "    \n",
    "\n",
    "def most_expensive_neighborhoods_rent_sales(Neighbourhood):\n",
    "    \"\"\"Comparison of Rent and Sales Prices of Most Expensive Neighborhoods.\"\"\"   \n",
    "    \n",
    "    # YOUR CODE HERE!\n",
    "    #prepare summary data\n",
    "    test_df = pd.DataFrame()\n",
    "    test_df['gross_rent'] = sfo_neighb.groupby(['year', 'neighborhood'])['gross_rent'].mean()\n",
    "    test_df['sale_price_sqr_foot']= sfo_neighb.groupby(['year', 'neighborhood'])['sale_price_sqr_foot'].mean()\n",
    "    test_df.reset_index(inplace=True)\n",
    "\n",
    "    #prepare data for display\n",
    "    disp_df = pd.DataFrame()\n",
    "    disp_df['years'] = test_df.loc[test_df['neighborhood'] == Neighbourhood, 'year']\n",
    "    disp_df['gross_rent'] = test_df.loc[test_df['neighborhood'] == Neighbourhood, 'gross_rent']\n",
    "    disp_df['sale_price_sqr_foot'] = test_df.loc[test_df['neighborhood'] == Neighbourhood, 'sale_price_sqr_foot']\n",
    "\n",
    "\n",
    "    return(disp_df.hvplot.bar(\n",
    "        x = 'years',\n",
    "        y = ['gross_rent', 'sale_price_sqr_foot' ],\n",
    "        value_label = \"Price\",\n",
    "        rot = 90,\n",
    "        title = (f'Top 10 Expensive Neighborhoods: {Neighbourhood}'))\n",
    "    )\n",
    "  \n",
    "    \n",
    "    \n",
    "def parallel_coordinates():\n",
    "    \"\"\"Parallel Coordinates Plot.\"\"\"\n",
    "\n",
    "    # YOUR CODE HERE!\n",
    "\n",
    "\n",
    "\n",
    "def parallel_categories():\n",
    "    \"\"\"Parallel Categories Plot.\"\"\"\n",
    "    \n",
    "    # YOUR CODE HERE!\n",
    "\n",
    "\n",
    "\n",
    "def neighborhood_map():\n",
    "    \"\"\"Neighborhood Map.\"\"\"\n",
    "\n",
    "    # YOUR CODE HERE!\n",
    "\n",
    "\n",
    "def sunburst():\n",
    "    \"\"\"Sunburst Plot.\"\"\"\n",
    "    \n",
    "    # YOUR CODE HERE!\n"
   ]
  },
  {
   "cell_type": "code",
   "execution_count": 66,
   "metadata": {},
   "outputs": [
    {
     "data": {},
     "metadata": {},
     "output_type": "display_data"
    },
    {
     "data": {
      "application/vnd.holoviews_exec.v0+json": "",
      "text/html": [
       "<div id='1650'>\n",
       "\n",
       "\n",
       "\n",
       "\n",
       "\n",
       "  <div class=\"bk-root\" id=\"2fe52be1-2c09-48c1-acc7-a1fbe587a4c8\" data-root-id=\"1650\"></div>\n",
       "</div>\n",
       "<script type=\"application/javascript\">(function(root) {\n",
       "  function embed_document(root) {\n",
       "    var docs_json = {\"9634a651-91ef-4d55-808c-ca52fcd873c6\":{\"roots\":{\"references\":[{\"attributes\":{},\"id\":\"1668\",\"type\":\"BasicTicker\"},{\"attributes\":{},\"id\":\"1671\",\"type\":\"SaveTool\"},{\"attributes\":{},\"id\":\"1675\",\"type\":\"ResetTool\"},{\"attributes\":{\"fill_alpha\":{\"value\":0.1},\"fill_color\":{\"value\":\"#30a2da\"},\"line_alpha\":{\"value\":0.1},\"top\":{\"field\":\"sale_price_sqr_foot\"},\"width\":{\"value\":0.8},\"x\":{\"field\":\"neighborhood\"}},\"id\":\"1688\",\"type\":\"VBar\"},{\"attributes\":{\"active_drag\":\"auto\",\"active_inspect\":\"auto\",\"active_multi\":null,\"active_scroll\":\"auto\",\"active_tap\":\"auto\",\"tools\":[{\"id\":\"1654\"},{\"id\":\"1671\"},{\"id\":\"1672\"},{\"id\":\"1673\"},{\"id\":\"1674\"},{\"id\":\"1675\"}]},\"id\":\"1677\",\"type\":\"Toolbar\"},{\"attributes\":{\"axis_label\":\"sale_price_sqr_foot\",\"bounds\":\"auto\",\"formatter\":{\"id\":\"1694\"},\"major_label_orientation\":\"horizontal\",\"ticker\":{\"id\":\"1668\"}},\"id\":\"1667\",\"type\":\"LinearAxis\"},{\"attributes\":{\"source\":{\"id\":\"1684\"}},\"id\":\"1691\",\"type\":\"CDSView\"},{\"attributes\":{\"axis_label\":\"neighborhood\",\"bounds\":\"auto\",\"formatter\":{\"id\":\"1692\"},\"major_label_orientation\":1.5707963267948966,\"ticker\":{\"id\":\"1665\"}},\"id\":\"1664\",\"type\":\"CategoricalAxis\"},{\"attributes\":{\"end\":850.7000444944509,\"reset_end\":850.7000444944509,\"reset_start\":0.0,\"tags\":[[[\"sale_price_sqr_foot\",\"sale_price_sqr_foot\",null]]]},\"id\":\"1653\",\"type\":\"Range1d\"},{\"attributes\":{},\"id\":\"1673\",\"type\":\"WheelZoomTool\"},{\"attributes\":{\"axis\":{\"id\":\"1667\"},\"dimension\":1,\"grid_line_color\":null,\"ticker\":null},\"id\":\"1670\",\"type\":\"Grid\"},{\"attributes\":{\"data\":{\"neighborhood\":[\"Silver Terrace\",\"Visitacion Valley\",\"Anza Vista\",\"Excelsior\",\"Inner Parkside\",\"Mission Terrace\",\"Bernal Heights \",\"Bayview Heights\",\"Westwood Park\",\"Merced Heights\"],\"sale_price_sqr_foot\":{\"__ndarray__\":\"0ym0jlxJZUCgCCJ5dddyQCTVd3sdVndAjCCsPEFMeECrA3m3FTuAQAabwse6W4BAsInCzvgFgkD+bei7V3aCQGzQRFqzeIVAfSK5L8KmiEA=\",\"dtype\":\"float64\",\"order\":\"little\",\"shape\":[10]}},\"selected\":{\"id\":\"1685\"},\"selection_policy\":{\"id\":\"1702\"}},\"id\":\"1684\",\"type\":\"ColumnDataSource\"},{\"attributes\":{\"factors\":[\"Silver Terrace\",\"Visitacion Valley\",\"Anza Vista\",\"Excelsior\",\"Inner Parkside\",\"Mission Terrace\",\"Bernal Heights \",\"Bayview Heights\",\"Westwood Park\",\"Merced Heights\"],\"tags\":[[[\"neighborhood\",\"neighborhood\",null]]]},\"id\":\"1652\",\"type\":\"FactorRange\"},{\"attributes\":{\"children\":[{\"id\":\"1651\"},{\"id\":\"1655\"},{\"id\":\"1712\"}],\"margin\":[0,0,0,0],\"name\":\"Row03175\",\"tags\":[\"embedded\"]},\"id\":\"1650\",\"type\":\"Row\"},{\"attributes\":{},\"id\":\"1662\",\"type\":\"LinearScale\"},{\"attributes\":{\"callback\":null,\"renderers\":[{\"id\":\"1690\"}],\"tags\":[\"hv_created\"],\"tooltips\":[[\"neighborhood\",\"@{neighborhood}\"],[\"sale_price_sqr_foot\",\"@{sale_price_sqr_foot}\"]]},\"id\":\"1654\",\"type\":\"HoverTool\"},{\"attributes\":{},\"id\":\"1702\",\"type\":\"UnionRenderers\"},{\"attributes\":{},\"id\":\"1685\",\"type\":\"Selection\"},{\"attributes\":{\"fill_color\":{\"value\":\"#30a2da\"},\"top\":{\"field\":\"sale_price_sqr_foot\"},\"width\":{\"value\":0.8},\"x\":{\"field\":\"neighborhood\"}},\"id\":\"1687\",\"type\":\"VBar\"},{\"attributes\":{},\"id\":\"1694\",\"type\":\"BasicTickFormatter\"},{\"attributes\":{\"below\":[{\"id\":\"1664\"}],\"center\":[{\"id\":\"1666\"},{\"id\":\"1670\"}],\"left\":[{\"id\":\"1667\"}],\"margin\":[5,5,5,5],\"min_border_bottom\":10,\"min_border_left\":10,\"min_border_right\":10,\"min_border_top\":10,\"plot_height\":300,\"plot_width\":700,\"renderers\":[{\"id\":\"1690\"}],\"sizing_mode\":\"fixed\",\"title\":{\"id\":\"1656\"},\"toolbar\":{\"id\":\"1677\"},\"x_range\":{\"id\":\"1652\"},\"x_scale\":{\"id\":\"1660\"},\"y_range\":{\"id\":\"1653\"},\"y_scale\":{\"id\":\"1662\"}},\"id\":\"1655\",\"subtype\":\"Figure\",\"type\":\"Plot\"},{\"attributes\":{\"text\":\"Top 10 Most Expensive Neighborhoods\",\"text_color\":{\"value\":\"black\"},\"text_font_size\":{\"value\":\"12pt\"}},\"id\":\"1656\",\"type\":\"Title\"},{\"attributes\":{\"margin\":[5,5,5,5],\"name\":\"HSpacer03180\",\"sizing_mode\":\"stretch_width\"},\"id\":\"1712\",\"type\":\"Spacer\"},{\"attributes\":{\"overlay\":{\"id\":\"1676\"}},\"id\":\"1674\",\"type\":\"BoxZoomTool\"},{\"attributes\":{},\"id\":\"1672\",\"type\":\"PanTool\"},{\"attributes\":{\"fill_alpha\":{\"value\":0.2},\"fill_color\":{\"value\":\"#30a2da\"},\"line_alpha\":{\"value\":0.2},\"top\":{\"field\":\"sale_price_sqr_foot\"},\"width\":{\"value\":0.8},\"x\":{\"field\":\"neighborhood\"}},\"id\":\"1689\",\"type\":\"VBar\"},{\"attributes\":{\"bottom_units\":\"screen\",\"fill_alpha\":0.5,\"fill_color\":\"lightgrey\",\"left_units\":\"screen\",\"level\":\"overlay\",\"line_alpha\":1.0,\"line_color\":\"black\",\"line_dash\":[4,4],\"line_width\":2,\"right_units\":\"screen\",\"top_units\":\"screen\"},\"id\":\"1676\",\"type\":\"BoxAnnotation\"},{\"attributes\":{},\"id\":\"1665\",\"type\":\"CategoricalTicker\"},{\"attributes\":{},\"id\":\"1692\",\"type\":\"CategoricalTickFormatter\"},{\"attributes\":{\"margin\":[5,5,5,5],\"name\":\"HSpacer03179\",\"sizing_mode\":\"stretch_width\"},\"id\":\"1651\",\"type\":\"Spacer\"},{\"attributes\":{\"data_source\":{\"id\":\"1684\"},\"glyph\":{\"id\":\"1687\"},\"hover_glyph\":null,\"muted_glyph\":{\"id\":\"1689\"},\"nonselection_glyph\":{\"id\":\"1688\"},\"selection_glyph\":null,\"view\":{\"id\":\"1691\"}},\"id\":\"1690\",\"type\":\"GlyphRenderer\"},{\"attributes\":{\"axis\":{\"id\":\"1664\"},\"grid_line_color\":null,\"ticker\":null},\"id\":\"1666\",\"type\":\"Grid\"},{\"attributes\":{},\"id\":\"1660\",\"type\":\"CategoricalScale\"}],\"root_ids\":[\"1650\"]},\"title\":\"Bokeh Application\",\"version\":\"2.2.3\"}};\n",
       "    var render_items = [{\"docid\":\"9634a651-91ef-4d55-808c-ca52fcd873c6\",\"root_ids\":[\"1650\"],\"roots\":{\"1650\":\"2fe52be1-2c09-48c1-acc7-a1fbe587a4c8\"}}];\n",
       "    root.Bokeh.embed.embed_items_notebook(docs_json, render_items);\n",
       "  }\n",
       "  if (root.Bokeh !== undefined && root.Bokeh.Panel !== undefined && root['Plotly'] !== undefined ) {\n",
       "    embed_document(root);\n",
       "  } else {\n",
       "    var attempts = 0;\n",
       "    var timer = setInterval(function(root) {\n",
       "      if (root.Bokeh !== undefined && root.Bokeh.Panel !== undefined && root['Plotly'] !== undefined) {\n",
       "        clearInterval(timer);\n",
       "        embed_document(root);\n",
       "      } else if (document.readyState == \"complete\") {\n",
       "        attempts++;\n",
       "        if (attempts > 100) {\n",
       "          clearInterval(timer);\n",
       "          console.log(\"Bokeh: ERROR: Unable to run BokehJS code because BokehJS library is missing\");\n",
       "        }\n",
       "      }\n",
       "    }, 10, root)\n",
       "  }\n",
       "})(window);</script>"
      ],
      "text/plain": [
       ":Bars   [neighborhood]   (sale_price_sqr_foot)"
      ]
     },
     "execution_count": 66,
     "metadata": {
      "application/vnd.holoviews_exec.v0+json": {
       "id": "1650"
      }
     },
     "output_type": "execute_result"
    }
   ],
   "source": [
    "    sfo_neighb = pd.DataFrame(columns = ['sale_price_sqr_foot', 'housing_units', 'gross_rent'])\n",
    "#     print ('test 1')\n",
    "    sfo_neighb['sale_price_sqr_foot'] = sfo_data.groupby(['year','neighborhood' ])['sale_price_sqr_foot'].mean()\n",
    "    sfo_neighb ['gross_rent'] = sfo_data.groupby(['year','neighborhood' ])['gross_rent'].mean()\n",
    "    sfo_neighb ['housing_units'] = sfo_data.groupby(['year','neighborhood' ])['housing_units'].mean()\n",
    "#     print (f'debug sfo_neigh: {sfo_neighb.head(5)}')\n",
    "    sfo_avg_df = pd.DataFrame()\n",
    "    sfo_avg_df ['sale_price_sqr_foot'] = sfo_neighb.groupby('neighborhood')['sale_price_sqr_foot'].mean()\n",
    "    sfo_avg_df ['housing_units'] = sfo_neighb.groupby('neighborhood')['housing_units'].mean()\n",
    "    sfo_avg_df ['gross_rent'] = sfo_neighb.groupby('neighborhood')['gross_rent'].mean()\n",
    "    sf_topten_df = sfo_avg_df.nlargest(10,'gross_rent' )\n",
    "    sf_topten_df.sort_values(by = 'sale_price_sqr_foot', inplace = True)\n",
    "    sf_topten_df.reset_index(inplace = True)\n",
    "#     print (f'debug sf_topten_df: {sf_topten_df.head(5)}')\n",
    "    sf_topten_df.index\n",
    "    #plot\n",
    "#     print (f'debug sf_topten_df[neighborhood]: { sf_topten_df[\"neighborhood\"]}')\n",
    "#     print (f'debug sf_topten_df[sale_price_sqr_foot]: { sf_topten_df[\"sale_price_sqr_foot\"]}')\n",
    "    sf_topten_df.hvplot.bar(\n",
    "        x = 'neighborhood',\n",
    "        y = 'sale_price_sqr_foot',\n",
    "        title = ('Top 10 Most Expensive Neighborhoods'),\n",
    "        rot = 90\n",
    "    )"
   ]
  },
  {
   "cell_type": "code",
   "execution_count": 67,
   "metadata": {},
   "outputs": [
    {
     "name": "stdout",
     "output_type": "stream",
     "text": [
      "debug sfo_neigh:                        sale_price_sqr_foot  housing_units  gross_rent\n",
      "year neighborhood                                                    \n",
      "2010 Alamo Square               291.182945         372560        1239\n",
      "     Anza Vista                 267.932583         372560        1239\n",
      "     Bayview                    170.098665         372560        1239\n",
      "     Buena Vista Park           347.394919         372560        1239\n",
      "     Central Richmond           319.027623         372560        1239\n",
      "debug sf_topten_df:         neighborhood  sale_price_sqr_foot  housing_units   gross_rent\n",
      "0     Silver Terrace           170.292549      380348.00  3528.000000\n",
      "1  Visitacion Valley           301.466180      381321.50  3657.000000\n",
      "2         Anza Vista           373.382198      379050.00  3031.833333\n",
      "3          Excelsior           388.765927      379050.00  3031.833333\n",
      "4     Inner Parkside           519.385604      379861.25  3224.000000\n",
      "debug sf_topten_df[neighborhood]: 0       Silver Terrace\n",
      "1    Visitacion Valley\n",
      "2           Anza Vista\n",
      "3            Excelsior\n",
      "4       Inner Parkside\n",
      "5      Mission Terrace\n",
      "6      Bernal Heights \n",
      "7      Bayview Heights\n",
      "8        Westwood Park\n",
      "9       Merced Heights\n",
      "Name: neighborhood, dtype: object\n"
     ]
    }
   ],
   "source": [
    "top_most_expensive_neighborhoods()"
   ]
  },
  {
   "cell_type": "markdown",
   "metadata": {},
   "source": [
    "## Panel Dashboard\n",
    "\n",
    "In this section, you will combine all of the plots into a single dashboard view using Panel. Be creative with your dashboard design!"
   ]
  },
  {
   "cell_type": "code",
   "execution_count": null,
   "metadata": {},
   "outputs": [],
   "source": [
    "# Create a Title for the Dashboard\n",
    "# YOUR CODE HERE!\n",
    "\n",
    "\n",
    "# Create a tab layout for the dashboard\n",
    "# YOUR CODE HERE!\n",
    "\n",
    "\n",
    "# Create the dashboard\n",
    "# YOUR CODE HERE!"
   ]
  },
  {
   "cell_type": "markdown",
   "metadata": {},
   "source": [
    "## Serve the Panel Dashboard"
   ]
  },
  {
   "cell_type": "code",
   "execution_count": null,
   "metadata": {},
   "outputs": [],
   "source": [
    "# Serve the# dashboard\n",
    "# YOUR CODE HERE!"
   ]
  },
  {
   "cell_type": "markdown",
   "metadata": {},
   "source": [
    "# Debugging\n",
    "\n",
    "Note: Some of the Plotly express plots may not render in the notebook through the panel functions.\n",
    "\n",
    "However, you can test each plot by uncommenting the following code"
   ]
  },
  {
   "cell_type": "code",
   "execution_count": null,
   "metadata": {},
   "outputs": [],
   "source": [
    "# housing_units_per_year()"
   ]
  },
  {
   "cell_type": "code",
   "execution_count": null,
   "metadata": {},
   "outputs": [],
   "source": [
    "# average_gross_rent()"
   ]
  },
  {
   "cell_type": "code",
   "execution_count": null,
   "metadata": {},
   "outputs": [],
   "source": [
    "# average_sales_price()"
   ]
  },
  {
   "cell_type": "code",
   "execution_count": null,
   "metadata": {},
   "outputs": [],
   "source": [
    "# average_price_by_neighborhood()"
   ]
  },
  {
   "cell_type": "code",
   "execution_count": 65,
   "metadata": {},
   "outputs": [
    {
     "name": "stdout",
     "output_type": "stream",
     "text": [
      "debug sfo_neigh:                        sale_price_sqr_foot  housing_units  gross_rent\n",
      "year neighborhood                                                    \n",
      "2010 Alamo Square               291.182945         372560        1239\n",
      "     Anza Vista                 267.932583         372560        1239\n",
      "     Bayview                    170.098665         372560        1239\n",
      "     Buena Vista Park           347.394919         372560        1239\n",
      "     Central Richmond           319.027623         372560        1239\n",
      "debug sf_topten_df:         neighborhood  sale_price_sqr_foot  housing_units   gross_rent\n",
      "0     Silver Terrace           170.292549      380348.00  3528.000000\n",
      "1  Visitacion Valley           301.466180      381321.50  3657.000000\n",
      "2         Anza Vista           373.382198      379050.00  3031.833333\n",
      "3          Excelsior           388.765927      379050.00  3031.833333\n",
      "4     Inner Parkside           519.385604      379861.25  3224.000000\n",
      "debug sf_topten_df[neighborhood]: 0       Silver Terrace\n",
      "1    Visitacion Valley\n",
      "2           Anza Vista\n",
      "3            Excelsior\n",
      "4       Inner Parkside\n",
      "5      Mission Terrace\n",
      "6      Bernal Heights \n",
      "7      Bayview Heights\n",
      "8        Westwood Park\n",
      "9       Merced Heights\n",
      "Name: neighborhood, dtype: object\n"
     ]
    }
   ],
   "source": [
    "# top_most_expensive_neighborhoods()"
   ]
  },
  {
   "cell_type": "code",
   "execution_count": 68,
   "metadata": {},
   "outputs": [
    {
     "ename": "NameError",
     "evalue": "name 'Neighbourhood' is not defined",
     "output_type": "error",
     "traceback": [
      "\u001b[1;31m---------------------------------------------------------------------------\u001b[0m",
      "\u001b[1;31mNameError\u001b[0m                                 Traceback (most recent call last)",
      "\u001b[1;32m<ipython-input-68-6db2f57ec56a>\u001b[0m in \u001b[0;36m<module>\u001b[1;34m\u001b[0m\n\u001b[1;32m----> 1\u001b[1;33m \u001b[0mmost_expensive_neighborhoods_rent_sales\u001b[0m\u001b[1;33m(\u001b[0m\u001b[1;33m)\u001b[0m\u001b[1;33m\u001b[0m\u001b[1;33m\u001b[0m\u001b[0m\n\u001b[0m",
      "\u001b[1;32m<ipython-input-64-9b44ab5e0d37>\u001b[0m in \u001b[0;36mmost_expensive_neighborhoods_rent_sales\u001b[1;34m()\u001b[0m\n\u001b[0;32m    114\u001b[0m     \u001b[1;31m#prepare data for display\u001b[0m\u001b[1;33m\u001b[0m\u001b[1;33m\u001b[0m\u001b[1;33m\u001b[0m\u001b[0m\n\u001b[0;32m    115\u001b[0m     \u001b[0mdisp_df\u001b[0m \u001b[1;33m=\u001b[0m \u001b[0mpd\u001b[0m\u001b[1;33m.\u001b[0m\u001b[0mDataFrame\u001b[0m\u001b[1;33m(\u001b[0m\u001b[1;33m)\u001b[0m\u001b[1;33m\u001b[0m\u001b[1;33m\u001b[0m\u001b[0m\n\u001b[1;32m--> 116\u001b[1;33m     \u001b[0mdisp_df\u001b[0m\u001b[1;33m[\u001b[0m\u001b[1;34m'years'\u001b[0m\u001b[1;33m]\u001b[0m \u001b[1;33m=\u001b[0m \u001b[0mtest_df\u001b[0m\u001b[1;33m.\u001b[0m\u001b[0mloc\u001b[0m\u001b[1;33m[\u001b[0m\u001b[0mtest_df\u001b[0m\u001b[1;33m[\u001b[0m\u001b[1;34m'neighborhood'\u001b[0m\u001b[1;33m]\u001b[0m \u001b[1;33m==\u001b[0m \u001b[0mNeighbourhood\u001b[0m\u001b[1;33m,\u001b[0m \u001b[1;34m'year'\u001b[0m\u001b[1;33m]\u001b[0m\u001b[1;33m\u001b[0m\u001b[1;33m\u001b[0m\u001b[0m\n\u001b[0m\u001b[0;32m    117\u001b[0m     \u001b[0mdisp_df\u001b[0m\u001b[1;33m[\u001b[0m\u001b[1;34m'gross_rent'\u001b[0m\u001b[1;33m]\u001b[0m \u001b[1;33m=\u001b[0m \u001b[0mtest_df\u001b[0m\u001b[1;33m.\u001b[0m\u001b[0mloc\u001b[0m\u001b[1;33m[\u001b[0m\u001b[0mtest_df\u001b[0m\u001b[1;33m[\u001b[0m\u001b[1;34m'neighborhood'\u001b[0m\u001b[1;33m]\u001b[0m \u001b[1;33m==\u001b[0m \u001b[0mNeighbourhood\u001b[0m\u001b[1;33m,\u001b[0m \u001b[1;34m'gross_rent'\u001b[0m\u001b[1;33m]\u001b[0m\u001b[1;33m\u001b[0m\u001b[1;33m\u001b[0m\u001b[0m\n\u001b[0;32m    118\u001b[0m     \u001b[0mdisp_df\u001b[0m\u001b[1;33m[\u001b[0m\u001b[1;34m'sale_price_sqr_foot'\u001b[0m\u001b[1;33m]\u001b[0m \u001b[1;33m=\u001b[0m \u001b[0mtest_df\u001b[0m\u001b[1;33m.\u001b[0m\u001b[0mloc\u001b[0m\u001b[1;33m[\u001b[0m\u001b[0mtest_df\u001b[0m\u001b[1;33m[\u001b[0m\u001b[1;34m'neighborhood'\u001b[0m\u001b[1;33m]\u001b[0m \u001b[1;33m==\u001b[0m \u001b[0mNeighbourhood\u001b[0m\u001b[1;33m,\u001b[0m \u001b[1;34m'sale_price_sqr_foot'\u001b[0m\u001b[1;33m]\u001b[0m\u001b[1;33m\u001b[0m\u001b[1;33m\u001b[0m\u001b[0m\n",
      "\u001b[1;31mNameError\u001b[0m: name 'Neighbourhood' is not defined"
     ]
    }
   ],
   "source": [
    "most_expensive_neighborhoods_rent_sales()"
   ]
  },
  {
   "cell_type": "code",
   "execution_count": null,
   "metadata": {},
   "outputs": [],
   "source": [
    "# neighborhood_map().show()"
   ]
  },
  {
   "cell_type": "code",
   "execution_count": null,
   "metadata": {},
   "outputs": [],
   "source": [
    "# parallel_categories()"
   ]
  },
  {
   "cell_type": "code",
   "execution_count": null,
   "metadata": {},
   "outputs": [],
   "source": [
    "# parallel_coordinates()"
   ]
  },
  {
   "cell_type": "code",
   "execution_count": null,
   "metadata": {},
   "outputs": [],
   "source": [
    "# sunburst()"
   ]
  },
  {
   "cell_type": "code",
   "execution_count": null,
   "metadata": {},
   "outputs": [],
   "source": []
  }
 ],
 "metadata": {
  "file_extension": ".py",
  "kernelspec": {
   "display_name": "Python [conda env:pyvizenv] *",
   "language": "python",
   "name": "conda-env-pyvizenv-py"
  },
  "language_info": {
   "codemirror_mode": {
    "name": "ipython",
    "version": 3
   },
   "file_extension": ".py",
   "mimetype": "text/x-python",
   "name": "python",
   "nbconvert_exporter": "python",
   "pygments_lexer": "ipython3",
   "version": "3.7.9"
  },
  "mimetype": "text/x-python",
  "name": "python",
  "npconvert_exporter": "python",
  "pygments_lexer": "ipython3",
  "version": 3
 },
 "nbformat": 4,
 "nbformat_minor": 4
}
